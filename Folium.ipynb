{
  "nbformat": 4,
  "nbformat_minor": 0,
  "metadata": {
    "colab": {
      "name": "Folium.ipynb",
      "provenance": []
    },
    "kernelspec": {
      "name": "python3",
      "display_name": "Python 3"
    },
    "language_info": {
      "name": "python"
    }
  },
  "cells": [
    {
      "cell_type": "code",
      "metadata": {
        "id": "KOCPf2h8-xA4"
      },
      "source": [
        "import folium\n",
        "import pandas as pd"
      ],
      "execution_count": null,
      "outputs": []
    },
    {
      "cell_type": "code",
      "metadata": {
        "id": "SEv3DT5s_Jxl"
      },
      "source": [
        "  m = folium.Map(location=[42.3503094,-71.1073088], zoom_start=15)"
      ],
      "execution_count": null,
      "outputs": []
    },
    {
      "cell_type": "code",
      "metadata": {
        "id": "3jjQQuEY_pbx"
      },
      "source": [
        "data = pd.read_csv('Vis_temp.csv')\n",
        "test = data.describe()\n",
        "twenty_five = test['download']['25%']\n",
        "fifty = test['download']['50%']\n",
        "seventy_five = test['download']['75%']\n"
      ],
      "execution_count": null,
      "outputs": []
    },
    {
      "cell_type": "code",
      "metadata": {
        "colab": {
          "base_uri": "https://localhost:8080/"
        },
        "id": "4e0m5JB1RJWm",
        "outputId": "01267524-53b1-4f2b-ca13-ed4e29d0c1f5"
      },
      "source": [
        "print(data)"
      ],
      "execution_count": null,
      "outputs": [
        {
          "output_type": "stream",
          "name": "stdout",
          "text": [
            "        Date   latitude  longitude  ...  upload  upload bit  Delay\n",
            "0   12:43 PM  42.349525 -71.094642  ...    1523     2761278     47\n",
            "1   12:22 PM  42.349190 -71.098364  ...   43443    45813364     23\n",
            "2   12:26 PM  50.000000 -71.106637  ...   56182    51707696     23\n",
            "3   11:11 PM  42.349544 -71.094622  ...    5522     5986118     31\n",
            "4    7:32 PM  42.350028 -71.098048  ...   33824    57593972     23\n",
            "5    3:54 PM  42.349923 -71.099372  ...   15042    26220847     23\n",
            "6   11:58 AM  42.349114 -71.095275  ...    4041     3765603     35\n",
            "7   10:15 AM  42.349507 -71.094584  ...   12454    21526040     26\n",
            "8    8:48 PM  42.348113 -71.106409  ...   27129    48651566     23\n",
            "9    8:32 PM  42.349007 -71.096116  ...   54361    62410238     22\n",
            "10   4:27 PM  42.349664 -71.094757  ...     171      280012     43\n",
            "11   4:15 PM  42.349511 -71.094623  ...    8452    13786267     23\n",
            "\n",
            "[12 rows x 8 columns]\n"
          ]
        }
      ]
    },
    {
      "cell_type": "code",
      "metadata": {
        "colab": {
          "base_uri": "https://localhost:8080/",
          "height": 626
        },
        "id": "TNSn_HPZFtQ0",
        "outputId": "a5375520-35d9-4141-b132-99c9c7557317"
      },
      "source": [
        "m"
      ],
      "execution_count": null,
      "outputs": [
        {
          "output_type": "execute_result",
          "data": {
            "text/html": [
              "<div style=\"width:100%;\"><div style=\"position:relative;width:100%;height:0;padding-bottom:60%;\"><span style=\"color:#565656\">Make this Notebook Trusted to load map: File -> Trust Notebook</span><iframe src=\"about:blank\" style=\"position:absolute;width:100%;height:100%;left:0;top:0;border:none !important;\" data-html=%3C%21DOCTYPE%20html%3E%0A%3Chead%3E%20%20%20%20%0A%20%20%20%20%3Cmeta%20http-equiv%3D%22content-type%22%20content%3D%22text/html%3B%20charset%3DUTF-8%22%20/%3E%0A%20%20%20%20%3Cscript%3EL_PREFER_CANVAS%3Dfalse%3B%20L_NO_TOUCH%3Dfalse%3B%20L_DISABLE_3D%3Dfalse%3B%3C/script%3E%0A%20%20%20%20%3Cscript%20src%3D%22https%3A//cdn.jsdelivr.net/npm/leaflet%401.4.0/dist/leaflet.js%22%3E%3C/script%3E%0A%20%20%20%20%3Cscript%20src%3D%22https%3A//code.jquery.com/jquery-1.12.4.min.js%22%3E%3C/script%3E%0A%20%20%20%20%3Cscript%20src%3D%22https%3A//maxcdn.bootstrapcdn.com/bootstrap/3.2.0/js/bootstrap.min.js%22%3E%3C/script%3E%0A%20%20%20%20%3Cscript%20src%3D%22https%3A//cdnjs.cloudflare.com/ajax/libs/Leaflet.awesome-markers/2.0.2/leaflet.awesome-markers.js%22%3E%3C/script%3E%0A%20%20%20%20%3Clink%20rel%3D%22stylesheet%22%20href%3D%22https%3A//cdn.jsdelivr.net/npm/leaflet%401.4.0/dist/leaflet.css%22/%3E%0A%20%20%20%20%3Clink%20rel%3D%22stylesheet%22%20href%3D%22https%3A//maxcdn.bootstrapcdn.com/bootstrap/3.2.0/css/bootstrap.min.css%22/%3E%0A%20%20%20%20%3Clink%20rel%3D%22stylesheet%22%20href%3D%22https%3A//maxcdn.bootstrapcdn.com/bootstrap/3.2.0/css/bootstrap-theme.min.css%22/%3E%0A%20%20%20%20%3Clink%20rel%3D%22stylesheet%22%20href%3D%22https%3A//maxcdn.bootstrapcdn.com/font-awesome/4.6.3/css/font-awesome.min.css%22/%3E%0A%20%20%20%20%3Clink%20rel%3D%22stylesheet%22%20href%3D%22https%3A//cdnjs.cloudflare.com/ajax/libs/Leaflet.awesome-markers/2.0.2/leaflet.awesome-markers.css%22/%3E%0A%20%20%20%20%3Clink%20rel%3D%22stylesheet%22%20href%3D%22https%3A//rawcdn.githack.com/python-visualization/folium/master/folium/templates/leaflet.awesome.rotate.css%22/%3E%0A%20%20%20%20%3Cstyle%3Ehtml%2C%20body%20%7Bwidth%3A%20100%25%3Bheight%3A%20100%25%3Bmargin%3A%200%3Bpadding%3A%200%3B%7D%3C/style%3E%0A%20%20%20%20%3Cstyle%3E%23map%20%7Bposition%3Aabsolute%3Btop%3A0%3Bbottom%3A0%3Bright%3A0%3Bleft%3A0%3B%7D%3C/style%3E%0A%20%20%20%20%0A%20%20%20%20%3Cmeta%20name%3D%22viewport%22%20content%3D%22width%3Ddevice-width%2C%0A%20%20%20%20%20%20%20%20initial-scale%3D1.0%2C%20maximum-scale%3D1.0%2C%20user-scalable%3Dno%22%20/%3E%0A%20%20%20%20%3Cstyle%3E%23map_e05e269c16a14370b4918b18bccd6e83%20%7B%0A%20%20%20%20%20%20%20%20position%3A%20relative%3B%0A%20%20%20%20%20%20%20%20width%3A%20100.0%25%3B%0A%20%20%20%20%20%20%20%20height%3A%20100.0%25%3B%0A%20%20%20%20%20%20%20%20left%3A%200.0%25%3B%0A%20%20%20%20%20%20%20%20top%3A%200.0%25%3B%0A%20%20%20%20%20%20%20%20%7D%0A%20%20%20%20%3C/style%3E%0A%3C/head%3E%0A%3Cbody%3E%20%20%20%20%0A%20%20%20%20%0A%20%20%20%20%3Cdiv%20class%3D%22folium-map%22%20id%3D%22map_e05e269c16a14370b4918b18bccd6e83%22%20%3E%3C/div%3E%0A%3C/body%3E%0A%3Cscript%3E%20%20%20%20%0A%20%20%20%20%0A%20%20%20%20%0A%20%20%20%20%20%20%20%20var%20bounds%20%3D%20null%3B%0A%20%20%20%20%0A%0A%20%20%20%20var%20map_e05e269c16a14370b4918b18bccd6e83%20%3D%20L.map%28%0A%20%20%20%20%20%20%20%20%27map_e05e269c16a14370b4918b18bccd6e83%27%2C%20%7B%0A%20%20%20%20%20%20%20%20center%3A%20%5B42.3503094%2C%20-71.1073088%5D%2C%0A%20%20%20%20%20%20%20%20zoom%3A%2015%2C%0A%20%20%20%20%20%20%20%20maxBounds%3A%20bounds%2C%0A%20%20%20%20%20%20%20%20layers%3A%20%5B%5D%2C%0A%20%20%20%20%20%20%20%20worldCopyJump%3A%20false%2C%0A%20%20%20%20%20%20%20%20crs%3A%20L.CRS.EPSG3857%2C%0A%20%20%20%20%20%20%20%20zoomControl%3A%20true%2C%0A%20%20%20%20%20%20%20%20%7D%29%3B%0A%0A%0A%20%20%20%20%0A%20%20%20%20var%20tile_layer_7e48e7484543475d82ed9592985e5777%20%3D%20L.tileLayer%28%0A%20%20%20%20%20%20%20%20%27https%3A//%7Bs%7D.tile.openstreetmap.org/%7Bz%7D/%7Bx%7D/%7By%7D.png%27%2C%0A%20%20%20%20%20%20%20%20%7B%0A%20%20%20%20%20%20%20%20%22attribution%22%3A%20null%2C%0A%20%20%20%20%20%20%20%20%22detectRetina%22%3A%20false%2C%0A%20%20%20%20%20%20%20%20%22maxNativeZoom%22%3A%2018%2C%0A%20%20%20%20%20%20%20%20%22maxZoom%22%3A%2018%2C%0A%20%20%20%20%20%20%20%20%22minZoom%22%3A%200%2C%0A%20%20%20%20%20%20%20%20%22noWrap%22%3A%20false%2C%0A%20%20%20%20%20%20%20%20%22opacity%22%3A%201%2C%0A%20%20%20%20%20%20%20%20%22subdomains%22%3A%20%22abc%22%2C%0A%20%20%20%20%20%20%20%20%22tms%22%3A%20false%0A%7D%29.addTo%28map_e05e269c16a14370b4918b18bccd6e83%29%3B%0A%3C/script%3E onload=\"this.contentDocument.open();this.contentDocument.write(    decodeURIComponent(this.getAttribute('data-html')));this.contentDocument.close();\" allowfullscreen webkitallowfullscreen mozallowfullscreen></iframe></div></div>"
            ],
            "text/plain": [
              "<folium.folium.Map at 0x7f9c51e9d810>"
            ]
          },
          "metadata": {},
          "execution_count": 14
        }
      ]
    },
    {
      "cell_type": "code",
      "metadata": {
        "id": "ye19L0NYF7ef"
      },
      "source": [
        "for i in range (0,data.shape[0]):\n",
        "  if float(data.iloc[i]['download']) > float(seventy_five):\n",
        "        folium.Marker(\n",
        "        [data.iloc[i]['latitude'],data.iloc[i]['longitude']],\n",
        "        popup=\"<i>Download Speed:{0}\\nUpload Speed:{1}\\nDelay:{2}\".format(data.iloc[i]['download'],data.iloc[i]['upload'],data.iloc[i]['Delay']),    \n",
        "        icon=folium.Icon(color=\"green\", icon=\"cloud\")).add_to(m)\n",
        "  elif float(data.iloc[i]['download']) > float(fifty):\n",
        "    folium.Marker(\n",
        "      [data.iloc[i]['latitude'],data.iloc[i]['longitude']],\n",
        "      popup=\"<i>Download Speed:{0}\\nUpload Speed:{1}\\nDelay:{2}\".format(data.iloc[i]['download'],data.iloc[i]['upload'],data.iloc[i]['Delay']),    \n",
        "      icon=folium.Icon(color=\"blue\", icon=\"cloud\")).add_to(m)\n",
        "  else:\n",
        "    folium.Marker(\n",
        "        [data.iloc[i]['latitude'],data.iloc[i]['longitude']],\n",
        "        popup=\"<i>Download Speed:{0}\\nUpload Speed:{1}\\nDelay:{2}\".format(data.iloc[i]['download'],data.iloc[i]['upload'],data.iloc[i]['Delay']),    \n",
        "        icon=folium.Icon(color=\"red\", icon=\"cloud\")).add_to(m)\n"
      ],
      "execution_count": null,
      "outputs": []
    },
    {
      "cell_type": "code",
      "metadata": {
        "id": "5LD8zK4qHo60"
      },
      "source": [
        "m\n",
        "m.save(\"test.html\")"
      ],
      "execution_count": null,
      "outputs": []
    },
    {
      "cell_type": "code",
      "metadata": {
        "id": "IqDVf6-wHplg"
      },
      "source": [
        "test = data.describe()"
      ],
      "execution_count": null,
      "outputs": []
    },
    {
      "cell_type": "code",
      "metadata": {
        "colab": {
          "base_uri": "https://localhost:8080/"
        },
        "id": "t53qaTLRI2b6",
        "outputId": "1203e91a-06e9-4d6c-96fa-8178ff05d7c6"
      },
      "source": [
        "print(test)"
      ],
      "execution_count": null,
      "outputs": [
        {
          "output_type": "stream",
          "name": "stdout",
          "text": [
            "        latitude  longitude  ...    upload bit      Delay\n",
            "count  12.000000  12.000000  ...  1.200000e+01  12.000000\n",
            "mean   42.349369 -71.097787  ...  2.837525e+07  28.500000\n",
            "std     0.000498   0.004411  ...  2.352649e+07   8.691689\n",
            "min    42.348113 -71.106637  ...  2.800120e+05  22.000000\n",
            "25%    42.349171 -71.098616  ...  5.430989e+06  23.000000\n",
            "50%    42.349509 -71.095696  ...  2.387344e+07  23.000000\n",
            "75%    42.349574 -71.094637  ...  4.941560e+07  32.000000\n",
            "max    42.350028 -71.094584  ...  6.241024e+07  47.000000\n",
            "\n",
            "[8 rows x 7 columns]\n"
          ]
        }
      ]
    },
    {
      "cell_type": "code",
      "metadata": {
        "colab": {
          "base_uri": "https://localhost:8080/"
        },
        "id": "7GrAP3vGJEtp",
        "outputId": "4993bff6-e4d0-4606-ff39-912decd5628d"
      },
      "source": [
        "print(test['latitude']['mean'])"
      ],
      "execution_count": null,
      "outputs": [
        {
          "output_type": "stream",
          "name": "stdout",
          "text": [
            "42.349369083333336\n"
          ]
        }
      ]
    },
    {
      "cell_type": "code",
      "metadata": {
        "id": "WLpWTGg5JLAO"
      },
      "source": [
        ""
      ],
      "execution_count": null,
      "outputs": []
    }
  ]
}